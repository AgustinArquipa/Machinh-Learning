{
  "cells": [
    {
      "cell_type": "markdown",
      "metadata": {
        "id": "C469SMzEbsmp"
      },
      "source": [
        "## Práctico Número 2: Implementando una red neuronal"
      ]
    },
    {
      "cell_type": "markdown",
      "metadata": {
        "id": "_4mw9LhXbsm4"
      },
      "source": [
        "### Tarea del dia\n",
        "Hoy vamos a implementar entre todos, la red neuronal mas simple: la de una sola neurona. Tenemos las herramientas para hacerlo automaticamente con tensorflow, pero eso no seria divertido. El unico ayudante que tendremos es numpy.\n",
        "Como vamos a implementar numpy, lo primero es ... importar numpy!! A esta altura deberia ser un acto reflejo ..."
      ]
    },
    {
      "cell_type": "code",
      "execution_count": null,
      "metadata": {
        "id": "1VwgbrKZbsm5"
      },
      "outputs": [],
      "source": [
        "\n",
        "# Sientete libre de importar esta libreria como mas te guste. Aqui te dejo unas opciones:\n",
        "import numpy as np\n",
        "# import numpy\n",
        "# import numpy as npy\n",
        "# import numpy as libreria_de_vectores\n",
        "# Descomenta la que mas te guste o haz una nueva linea."
      ]
    },
    {
      "cell_type": "markdown",
      "metadata": {
        "id": "gI2UbKFHbsm6"
      },
      "source": [
        "### Recordando el perceptron\n",
        "Recordemos que es un perceptron. No introduzcamos palabras raras como sumatoria, ni funciones de activacion todavia. El perceptron es un *modelo*, que nos ayuda a *predecir* algo, a partir de *caracteristicas*.\n",
        "Que son estas caracteristicas? Dicho de forma simple, es algo que la maquina puede entender, es decir numeros. Por ejemplo, pueden ser los numeros que describan a una persona: edad, peso, talla, etc.\n",
        "\n",
        "![Perceptron simple](https://drive.google.com/uc?export=view&id=1QJqdjrwZR2iu9mdnsZXsGV6aDpoy9nOF)\n",
        "\n",
        "En este caso, mis caracteristicas son n1 y n2, y eso nos va a ayudar a predecir *algo*.\n",
        "\n",
        "#### Como lo hace?\n",
        "\n",
        "Podemos empezar por un modelo muy muuy muuuy simple.\n",
        "\n",
        "Primero supongamos que lo que queremos predecir es un valor tipo Verdadero o Falso, o un 1 o 0. Es decir, queremos predecir entre dos valores.\n",
        "\n",
        "Sumamos las caracteristicas (que recuerden que no son mas que numeros). Si eso nos da arriba de un valor (llamemosle *umbral*), predecimos un 1 (o Verdadero), sino, predecimos un 0 (o Falso)\n"
      ]
    },
    {
      "cell_type": "markdown",
      "metadata": {
        "id": "pQ5I7mOWbsm8"
      },
      "source": [
        "### Bajemoslo a tierra con un ejemplo\n",
        "\n",
        "Queremos predecir si un alumno va a aprobar una materia o no, a partir de ciertas caracteristicas. Nuestras caracteristicas van a ser: resultado de examen 1, resultado de examen 2. Entre ambas, tienen que ser mayor a 12 para aprobar el curso.\n",
        "\n",
        "\n",
        "\n",
        "![Perceptron complejo](https://drive.google.com/uc?export=view&id=1G83IAw0-tPuuMcBRp49GOnhprI2cvpXY)\n",
        "\n",
        "\n",
        "\n",
        "No se asusten con ese simbolo raro, si no lo conocen, solo nos dice que sumamos el resultado del Examen1 + resultado del Examen 2\n"
      ]
    },
    {
      "cell_type": "markdown",
      "metadata": {
        "id": "hZ9lqJwHbsm8"
      },
      "source": [
        "### Podremos implementar eso con codigo?\n",
        "Primero lo primero, definamos nuestros datos, que van a ser super simples ...\n",
        "Vamos a tener:\n",
        "- alumno 1: saco 2 en el primer examen, y 9 en el segundo\n",
        "- alumnos 2: saco 10 en el primer examen, y 9 en el segundo"
      ]
    },
    {
      "cell_type": "code",
      "execution_count": null,
      "metadata": {
        "id": "ng1B0gsObsm9"
      },
      "outputs": [],
      "source": [
        "alumno_1 = [2,9]\n",
        "alumno_2 = [10, 9]\n"
      ]
    },
    {
      "cell_type": "markdown",
      "metadata": {
        "id": "hmqbPbPrbsm9"
      },
      "source": [
        "Hasta ahora, tanto alumno_1 como alumno_2 son *listas*. Podemos juntar a ambas en un solo objeto\n",
        "\n",
        "Hagamos eso"
      ]
    },
    {
      "cell_type": "code",
      "execution_count": null,
      "metadata": {
        "colab": {
          "base_uri": "https://localhost:8080/"
        },
        "id": "mE0YNOuGbsm-",
        "outputId": "bac50dd4-9ccc-46f0-e4d3-a46799327319"
      },
      "outputs": [
        {
          "name": "stdout",
          "output_type": "stream",
          "text": [
            "[[2, 9], [10, 9]]\n"
          ]
        }
      ],
      "source": [
        "alumnos = [alumno_1, alumno_2]\n",
        "print(alumnos)"
      ]
    },
    {
      "cell_type": "markdown",
      "metadata": {
        "id": "iL4Gr3F1bsm_"
      },
      "source": [
        "La variable alumnos es ahora una *lista*, que a su vez esta compuesta de *listas* (es una lista de listas). Podemos pedirle a numpy que las transforme en una *matriz*. Esto es simplemente mas conveniente para la computadora. Le hagamos facil el trabajo. Esto lo podemos hacer con la *funcion* de numpy: numpy.array.\n",
        "\n",
        "No se olviden que todo esto debe estar guardado en una variable"
      ]
    },
    {
      "cell_type": "code",
      "execution_count": null,
      "metadata": {
        "colab": {
          "base_uri": "https://localhost:8080/"
        },
        "id": "eFeucjIFbsnA",
        "outputId": "cc829c83-4040-443b-c810-15cfd6f2568b"
      },
      "outputs": [
        {
          "name": "stdout",
          "output_type": "stream",
          "text": [
            "[[ 2  9]\n",
            " [10  9]]\n"
          ]
        }
      ],
      "source": [
        "alumnos_v = np.array(alumnos)\n",
        "print(alumnos_v)"
      ]
    },
    {
      "cell_type": "code",
      "execution_count": null,
      "metadata": {
        "colab": {
          "base_uri": "https://localhost:8080/"
        },
        "id": "rl0H-9jNbsnA",
        "outputId": "98018e52-8e62-4846-dc49-589dc2360c12"
      },
      "outputs": [
        {
          "name": "stdout",
          "output_type": "stream",
          "text": [
            "(2, 2)\n",
            "2 es el numero de alumnos\n",
            "2 es el numero de examanes por alumno\n"
          ]
        }
      ],
      "source": [
        "# Quiero que conozcas a los arrays de numpy. Hay un pequenio atributo de numpy que es \"shape\", que usaremos mas tarde. Puedes ver lo que hace?\n",
        "print(alumnos_v.shape)\n",
        "#el metodo shape de lista de numpy devuelve el tamaño de la matriz\n",
        "print(f\"{alumnos_v.shape[0]} es el numero de alumnos\")\n",
        "print(f\"{alumnos_v.shape[1]} es el numero de examanes por alumno\")"
      ]
    },
    {
      "cell_type": "code",
      "execution_count": null,
      "metadata": {
        "colab": {
          "base_uri": "https://localhost:8080/"
        },
        "id": "h4shDXk7bsnA",
        "outputId": "a302bc16-a437-4750-d9b9-b6374205bf89"
      },
      "outputs": [
        {
          "name": "stdout",
          "output_type": "stream",
          "text": [
            "El primer alumno saco 9 en el segundo examen\n",
            "El segundo alumno saco 9 en el segundo examen\n"
          ]
        }
      ],
      "source": [
        "# Como me entero de cuanto saco el primer alumno en el segundo examen, por ejemplo?\n",
        "# Veamoslo en codigo:\n",
        "\n",
        "print(f\"El primer alumno saco {alumnos_v[0,1]} en el segundo examen\")\n",
        "print(f\"El segundo alumno saco {alumnos_v[1,1]} en el segundo examen\")\n",
        "\n",
        "# En general, en matrices de numpy, el primer numero de lo que hay entre corchetes hace referencia a la fila, (que en este caso son los alumnos), y el segundo numero a la columna\n",
        "# que en este caso son los examenes\n",
        "# Acuerdense que python empieza a contar desde el 0 (le fue mal en el jardin de infantes, pobre)"
      ]
    },
    {
      "cell_type": "markdown",
      "metadata": {
        "id": "bN1pCEyGbsnB"
      },
      "source": [
        "Tenemos nuestra base de datos!\n",
        "Ahora armemos nuestro perceptron!\n",
        "Para los mas avanzados, intenten hacer una *clase* perceptron, para el resto, esta bien una *funcion*. Esta *funcion* tomara los datos y simplemente devolvera la suma de ellos.\n",
        "Puedes hacer esto?\n",
        "\n",
        "Hay una forma facil y un poco ... incorrecta de hacerlo. Mas que incorrecta es mas lenta, pero nos conformaremos con eso por ahora. Solo quiero que sepas que existe una forma mejor de hacer lo mismo. Si sabes cual es la forma rapida, implementala. Si no, puedes hacer la suma mediante loops for."
      ]
    },
    {
      "cell_type": "code",
      "execution_count": null,
      "metadata": {
        "colab": {
          "base_uri": "https://localhost:8080/"
        },
        "id": "onjqFVEGep6c",
        "outputId": "5dc733fa-ca50-4aec-8ae4-d7989db4cac6"
      },
      "outputs": [
        {
          "name": "stdout",
          "output_type": "stream",
          "text": [
            "[[ 2  9]\n",
            " [10  9]]\n"
          ]
        }
      ],
      "source": [
        "print(alumnos_v)"
      ]
    },
    {
      "cell_type": "code",
      "execution_count": null,
      "metadata": {
        "colab": {
          "base_uri": "https://localhost:8080/"
        },
        "id": "IOgTvwRBLDaS",
        "outputId": "269a9eae-43d5-45cf-ea03-1b17c8fe4fd4"
      },
      "outputs": [
        {
          "data": {
            "text/plain": [
              "[11, 19]"
            ]
          },
          "execution_count": 11,
          "metadata": {},
          "output_type": "execute_result"
        }
      ],
      "source": [
        "[11, 19]"
      ]
    },
    {
      "cell_type": "code",
      "execution_count": null,
      "metadata": {
        "id": "O0LbWaHUbsnB"
      },
      "outputs": [],
      "source": [
        "def perceptron(datos):\n",
        "    # definimos una lista vacia, primero. En nuestro caso, al final esta contendra nuestra lista de aprobados y desaprobados\n",
        "\n",
        "    respuesta = [] #------------completar-------\n",
        "    # en este caso, \"dato\" sera alumno, pero dependera de que se le pase como parametro\n",
        "    for dato in datos:\n",
        "        print(f\"dato es {dato}\")\n",
        "        sumatoria = 0\n",
        "        # definimos una sumatoria = 0, y le iremos sumando el valor de cada uno de los features.\n",
        "\n",
        "        # sumatoria = #-----------completar-------------\n",
        "        # en nuestro caso, \"feature\" puede tomar el valor: examen_1 o examen_2\n",
        "        for feature in dato:\n",
        "            sumatoria = sumatoria + feature\n",
        "        print(f\"sumatoria es {sumatoria}\")\n",
        "        respuesta.append(sumatoria)\n",
        "        # recuerden que en machine learning, trabajamos con numpy arrays!\n",
        "    respuesta_v = np.array(respuesta)\n",
        "\n",
        "\n",
        "    return respuesta_v\n"
      ]
    },
    {
      "cell_type": "markdown",
      "metadata": {
        "id": "EzEqpUgzbsnB"
      },
      "source": [
        "Bien, ya definimos nuestro perceptron, pero por ahora solamente lo definimos. Ahora tenemos que *llamar* a esa funcion con nuestros datos."
      ]
    },
    {
      "cell_type": "code",
      "execution_count": null,
      "metadata": {
        "colab": {
          "base_uri": "https://localhost:8080/"
        },
        "id": "DO6MXnFNbsnB",
        "outputId": "9b20af94-631f-4955-bc24-efd64ce9cb94"
      },
      "outputs": [
        {
          "name": "stdout",
          "output_type": "stream",
          "text": [
            "dato es [2 9]\n",
            "sumatoria es 11\n",
            "dato es [10  9]\n",
            "sumatoria es 19\n",
            "[11 19]\n"
          ]
        }
      ],
      "source": [
        "y = perceptron(alumnos_v)\n",
        "print(y)"
      ]
    },
    {
      "cell_type": "markdown",
      "metadata": {
        "id": "yEHGiklIbsnB"
      },
      "source": [
        "Ok, esto nos tira dos numeros, pero no quiero una lista de numeros de 0 a 20, quiero lista de aprobados y desaprobados. Al perceptron le falta algo, que llamaremos la *funcion de activacion*. La *funcion de activacion* es algo que procesa la suma que hicimos dentro del perceptron y lo transforma en otro numero, segun ciertas *reglas*.\n",
        "\n",
        "Hay diferentes *funciones de activacion*, pero recuerden que ahora solo queremos saber si el alumno suma mas de 12 entre sus dos examenes o no. Entonces nuestra funcion de activacion devolvera un uno si la suma es mayor que 12 (que interpretaremos como *aprobado*), y un 0 si es menos que 12 (que interpretaremos como *desaprobado*). Esta *funcion de activacion* es llamada ***funcion escalon***.\n",
        "\n",
        "Ahora, la funcion de activacion es parte del perceptron, asi que la definiremos primero, y luego haremos que la *funcion* que definimos previamente, es decir la funcion *perceptron* ***llame*** a la *funcion* *escalon*."
      ]
    },
    {
      "cell_type": "code",
      "execution_count": null,
      "metadata": {
        "id": "V6ddLDu-bsnB"
      },
      "outputs": [],
      "source": [
        "def funcion_escalon(sumatoria, umbral):\n",
        "    salida = []\n",
        "    for rtta in sumatoria:\n",
        "        if rtta >= umbral:  #-------completar---------:\n",
        "            salida.append(1)\n",
        "        else:\n",
        "            salida.append(0)\n",
        "\n",
        "    # transformamos nuestra salida, porque en machine learning trabajamos con numpy arrays\n",
        "    salida = np.array(salida)\n",
        "    return salida"
      ]
    },
    {
      "cell_type": "markdown",
      "metadata": {
        "id": "OrNKDgKxbsnC"
      },
      "source": [
        "Redefinimos nuestra funcion de perceptron"
      ]
    },
    {
      "cell_type": "code",
      "execution_count": null,
      "metadata": {
        "id": "X7XpeqRwbsnE"
      },
      "outputs": [],
      "source": [
        "def perceptron(datos, umbral):\n",
        "    # definimos una lista vacia, primero. En nuestro caso, al final esta contendra nuestra lista de aprobados y desaprobados\n",
        "\n",
        "    respuesta = [] #-------completar--------\n",
        "    # en este caso, \"dato\" sera alumno, pero dependera de que se le pase como parametro\n",
        "    for dato in datos:\n",
        "        # definimos una sumatoria = 0, y le iremos sumando el valor de cada uno de los features.\n",
        "        sumatoria = 0 #-------completar---------\n",
        "        # en nuestro caso, \"feature\" puede tomar el valor: examen_1 o examen_2\n",
        "        for feature in dato:\n",
        "            sumatoria += feature #-------completar--------\n",
        "        respuesta.append(sumatoria)\n",
        "        # recuerden que en machine learning, trabajamos con numpy arrays!\n",
        "        respuesta_v = np.array(respuesta)\n",
        "\n",
        "    # Ahora llamamos al final a nuestra funcion escalon\n",
        "    respuesta_final = funcion_escalon(respuesta_v,  umbral)    #---completar-------)\n",
        "\n",
        "\n",
        "    return respuesta_final"
      ]
    },
    {
      "cell_type": "code",
      "execution_count": null,
      "metadata": {
        "colab": {
          "base_uri": "https://localhost:8080/"
        },
        "id": "D-KcY3XpbsnF",
        "outputId": "336a888d-834b-436e-cd4c-bb3932d73fea"
      },
      "outputs": [
        {
          "name": "stdout",
          "output_type": "stream",
          "text": [
            "Estos son nuestros aprobados y desaprobados: [0 1]\n"
          ]
        }
      ],
      "source": [
        "aprobados_desaprobados = perceptron(alumnos_v, 12)\n",
        "print(f\"Estos son nuestros aprobados y desaprobados: {aprobados_desaprobados}\")\n"
      ]
    },
    {
      "cell_type": "markdown",
      "metadata": {
        "id": "DV89n6VRbsnG"
      },
      "source": [
        "Creanlo o no, acaban de implementar su primer perceptron. Todavia le faltan un par de cosas para que sea completamente funcional y poder incorporarlo a un red neuronal como la gente. Pero esta pequenia funcion ya es un perceptron (o neurona)"
      ]
    },
    {
      "cell_type": "markdown",
      "metadata": {
        "id": "tr2xYXFfbsnG"
      },
      "source": [
        "#### Completando el panorama\n",
        "Que pasa si el examen 2 es mas clave o importante que el examen 1, o al reves? Por que estaria obligado a que valgan lo mismo? Supongamos que el examen 2 cubre mas temas, y que quiero que valga mas. Para eso, vamos a implementar unos *pesos*. Esto quiere decir que simplemente vamos a estar multiplicando cada caracteristica por un numero. Digamos que queremos que el Examen 2 valga el 50% mas que el examen 1. Para eso, podemos multiplicar al examen 1 por 1, y al examen 2 por 1.5.  \n",
        "Pueden modificar la funcion para que haga eso?"
      ]
    },
    {
      "cell_type": "code",
      "execution_count": null,
      "metadata": {
        "colab": {
          "base_uri": "https://localhost:8080/"
        },
        "id": "J6MFx7FpbsnG",
        "outputId": "6586f071-bcea-4619-fba0-23387f5e83aa"
      },
      "outputs": [
        {
          "name": "stdout",
          "output_type": "stream",
          "text": [
            "[1, 1.5]\n"
          ]
        }
      ],
      "source": [
        "# Primero, definimos nuestros pesos.\n",
        "w = [1,1.5]\n",
        "print(w)"
      ]
    },
    {
      "cell_type": "code",
      "execution_count": null,
      "metadata": {
        "colab": {
          "base_uri": "https://localhost:8080/"
        },
        "id": "5tYzz2WfbsnH",
        "outputId": "66ed1870-42be-4fc8-cd5d-52d4dd0d0a26"
      },
      "outputs": [
        {
          "name": "stdout",
          "output_type": "stream",
          "text": [
            "[1.  1.5]\n",
            "Noten que a proposito puse los pesos en w en el mismo orden que los features.\n",
            "     Esto nos servira en la proxima funcion\n"
          ]
        }
      ],
      "source": [
        "# Pero en machine learning con que trabajamos? Todos juntos: numpy array!\n",
        "w = np.array(w)\n",
        "print(w)\n",
        "print(\"Noten que a proposito puse los pesos en w en el mismo orden que los features.\\n \\\n",
        "    Esto nos servira en la proxima funcion\")"
      ]
    },
    {
      "cell_type": "code",
      "execution_count": null,
      "metadata": {
        "id": "dlVOweu9bsnH"
      },
      "outputs": [],
      "source": [
        "# Ahora modifiquemos la funcion anterior (copien y peguen, y le ponemos un nuevo nombre, no le digan a nadie ...)\n",
        "def perceptron_w(datos, w, umbral):\n",
        "    respuesta = [] #-------completar-------\n",
        "    #sumatoria = #------completar---------\n",
        "\n",
        "    # en el proximo loop for es donde esta la diferencia clave.\n",
        "    # Podemos usar la palabra clave \"range\", para acceder a ambas listas por orden\n",
        "    for i in range(0,datos.shape[0]): # i correspondera al alumno\n",
        "        sumatoria = 0\n",
        "        for j in range(0, datos.shape[1]): # j correspondera al examen\n",
        "\n",
        "            if j==1:\n",
        "              sumatoria = sumatoria + (datos[i,j] * w[1])\n",
        "            #sumatoria += #---------completar con el producto del peso por el elemento del examen\n",
        "\n",
        "        respuesta.append(sumatoria)\n",
        "    respuesta_v = np.array(respuesta)\n",
        "    respuesta_final = funcion_escalon(respuesta_v, umbral) #completar-----)\n",
        "    return respuesta_final"
      ]
    },
    {
      "cell_type": "code",
      "execution_count": null,
      "metadata": {
        "colab": {
          "base_uri": "https://localhost:8080/"
        },
        "id": "E3IJNcI4bsnI",
        "outputId": "803f9518-1d3b-4606-f99f-00450157bfeb"
      },
      "outputs": [
        {
          "name": "stdout",
          "output_type": "stream",
          "text": [
            "0\n",
            "1\n",
            "La lista de aprobados y desaprobados es [1 1]\n",
            "Gracias a los pesos, todos aprobaron! \n"
          ]
        }
      ],
      "source": [
        "aprobados_desaprobados = perceptron_w(alumnos_v, w, 12)\n",
        "print(f\"La lista de aprobados y desaprobados es {aprobados_desaprobados}\")\n",
        "print(f\"Gracias a los pesos, todos aprobaron! \")"
      ]
    },
    {
      "cell_type": "markdown",
      "metadata": {
        "id": "rQ_AvbyDbsnI"
      },
      "source": [
        "#### Facturas\n",
        "creo que a ese perceptron le falta algo. Esos alumnos le llevaron facturas al profesor? Llevarle facturas al profesor es muy importante. Nadie puede aprobar sin llevarle facturas al profesor. Por lo tanto, necesitaremos ***otro*** perceptron para manejar este dato de la manera mas adecuada.\n",
        "![Perceptron con facturas](https://drive.google.com/uc?export=view&id=1aIiyftevn4rLvp_kqU512JOzpVQgc8Cx)\n"
      ]
    },
    {
      "cell_type": "code",
      "execution_count": null,
      "metadata": {
        "colab": {
          "base_uri": "https://localhost:8080/"
        },
        "id": "ESj3H_unzsaS",
        "outputId": "4642962d-9520-456a-8f80-4829c00ba16a"
      },
      "outputs": [
        {
          "name": "stdout",
          "output_type": "stream",
          "text": [
            "Alumnos: \n",
            "[[ 2  9  1]\n",
            " [10  9  0]\n",
            " [ 3  2  1]]\n",
            "Pesos: [1.  1.5]\n",
            "Umbral: 12\n",
            "\n",
            "Nota del alumno 0 es igual a -> 15.5\n",
            "Nota del alumno 1 es igual a -> 23.5\n",
            "Nota del alumno 2 es igual a -> 6.0\n",
            "La lista de aprobados y desaprobados es [1, 1, 0]\n",
            "\n",
            "El alumno 0 aprobo! Trajo Facturas\n",
            "El alumno 1 desaprobo! No Trajo Facturas\n",
            "El alumno 2 aprobo! Trajo Facturas\n",
            "La lista de aprobados y desaporbados por traer facturas [1 0 1]\n"
          ]
        }
      ],
      "source": [
        "class Perceptron:\n",
        "  #builders\n",
        "  def __init__(self, datos, pesos, umbral) -> None:\n",
        "    self.__alumnos = np.array(datos)\n",
        "    self.__w = np.array(pesos)\n",
        "    self.__umbral = umbral\n",
        "    print(f\"Alumnos: \")\n",
        "    print(self.__alumnos)\n",
        "    print(f\"Pesos: {self.__w}\")\n",
        "    print(f\"Umbral: {umbral}\")\n",
        "    #con np.array transformamos a matriz\n",
        "\n",
        "  def __funcion_escalon(self, sumatoria, umbral) -> list:\n",
        "    salida = []\n",
        "    for rtta in sumatoria:\n",
        "      if rtta >= umbral:\n",
        "        salida.append(1)\n",
        "      else:\n",
        "        salida.append(0)\n",
        "    return salida\n",
        "\n",
        "  def perceptron_w(self) -> list:\n",
        "    print()\n",
        "    respuesta = []\n",
        "\n",
        "    for i in range(0, self.__alumnos.shape[0]):\n",
        "      sumatoria = 0\n",
        "      for j in range(0, self.__alumnos.shape[1]):\n",
        "        if j != 2: ##Aca controlamos que no sume la columna de facturas, ya que es un control\n",
        "          if (j==1):\n",
        "            #preguntamos por la columna ya que el examen_2 es el que tiene mayor peso\n",
        "            sumatoria += (self.__alumnos[i, j] * self.__w[1])\n",
        "          else:\n",
        "            sumatoria += (self.__alumnos[i, j] * self.__w[0])\n",
        "      print(f\"Nota del alumno {i} es igual a -> {sumatoria}\")\n",
        "      respuesta.append(sumatoria)\n",
        "    respuesta_v = np.array(respuesta)\n",
        "    respuesta_final = self.__funcion_escalon(respuesta_v, self.__umbral)\n",
        "\n",
        "    return respuesta_final\n",
        "\n",
        "  def perceptron_f(self) -> list: #Perceptron que controla si trajeron facturas\n",
        "    print()\n",
        "    respuesta = []\n",
        "    for a in range(0,self.__alumnos.shape[0]):\n",
        "      if self.__trajoFacturas(self.__alumnos[a]):\n",
        "        print(f\"El alumno {a} aprobo! Trajo Facturas\")\n",
        "        respuesta.append(1)\n",
        "      else:\n",
        "        print(f\"El alumno {a} desaprobo! No Trajo Facturas\")\n",
        "        respuesta.append(0)\n",
        "    respuesta_final = np.array(respuesta)\n",
        "    return respuesta_final\n",
        "\n",
        "  #Metodo privado que me devuelve un boolean\n",
        "  def __trajoFacturas(self, alumno) -> bool:\n",
        "    flag = False\n",
        "    #Le tenemos que pasar a este metodo esa fila,osea una lista\n",
        "    for i in range(0, len(alumno)):\n",
        "      if i==2 and alumno[i]==1:\n",
        "        flag = True\n",
        "\n",
        "    return flag\n",
        "\n",
        "\n",
        "if (__name__ == '__main__'):\n",
        "  #Ahora queremos testear si los alumnos trajeron factura ya que en esos se basaran si aprobaron o no\n",
        "  alumno_1 = [2, 9, 1]\n",
        "  alumno_2 = [10, 9, 0]\n",
        "  alumno_3 = [3, 2, 1]  #Con la tercera columna testearemos con 1 si trajo factura o con 0 si no trajo\n",
        "  alumnos = [alumno_1, alumno_2, alumno_3]\n",
        "\n",
        "  pesos = [1, 1.5]\n",
        "  clsPerc = Perceptron(alumnos, pesos, 12)\n",
        "  print(f\"La lista de aprobados y desaprobados es {clsPerc.perceptron_w()}\")\n",
        "\n",
        "  print(f\"La lista de aprobados y desaporbados por traer facturas {clsPerc.perceptron_f()}\")"
      ]
    }
  ],
  "metadata": {
    "colab": {
      "provenance": []
    },
    "kernelspec": {
      "display_name": "base",
      "language": "python",
      "name": "python3"
    },
    "language_info": {
      "codemirror_mode": {
        "name": "ipython",
        "version": 3
      },
      "file_extension": ".py",
      "mimetype": "text/x-python",
      "name": "python",
      "nbconvert_exporter": "python",
      "pygments_lexer": "ipython3",
      "version": "3.11.3"
    },
    "orig_nbformat": 4
  },
  "nbformat": 4,
  "nbformat_minor": 0
}
