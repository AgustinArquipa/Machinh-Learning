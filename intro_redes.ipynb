{
  "cells": [
    {
      "cell_type": "markdown",
      "id": "46c0deda-4472-4129-a11e-7f7d46a8ccb9",
      "metadata": {
        "id": "46c0deda-4472-4129-a11e-7f7d46a8ccb9",
        "nbgrader": {
          "grade": false,
          "grade_id": "Intro",
          "locked": true,
          "schema_version": 3,
          "solution": false,
          "task": false
        },
        "tags": []
      },
      "source": [
        "# Mi primera red neuronal\n",
        "En este practico trabajaremos con la base de datos de MNIST. Esta base de datos consta de digitos escritos a mano. Para el final de este trabajo practico, habran implementado una red neuronal profunda que sepa reconocer cada uno de estos digitos.\n",
        "\n",
        "### Atencion! Trata de no cambiar los nombres de las variables! Recuerda que testearemos estas pruebas automaticamente."
      ]
    },
    {
      "cell_type": "markdown",
      "id": "ca8ef2b1-772d-4fca-a9dc-34b47153f2ef",
      "metadata": {
        "id": "ca8ef2b1-772d-4fca-a9dc-34b47153f2ef",
        "nbgrader": {
          "grade": false,
          "grade_id": "Consigna_1",
          "locked": true,
          "schema_version": 3,
          "solution": false,
          "task": false
        },
        "tags": []
      },
      "source": [
        "## Pregunta 1\n",
        "### Importar los datos\n",
        "Lo primero que tendras que hacer es bajar la base de datos. Por suerte, esta no es una tarea demasiado dificil, ya que el mismo tensorflow la posee y podras buscar en su codigo como cargarla a memoria.\n",
        "Sin embargo, tienes que investigar como hacerlo.\n",
        "[datasets de tensorflow](https://www.tensorflow.org/api_docs/python/tf/keras/datasets)"
      ]
    },
    {
      "cell_type": "code",
      "execution_count": 3,
      "id": "59c858ef-1d2d-47cc-9ed1-a1a64b7339fe",
      "metadata": {
        "id": "59c858ef-1d2d-47cc-9ed1-a1a64b7339fe",
        "nbgrader": {
          "grade": false,
          "grade_id": "Importe_tensorflow",
          "locked": true,
          "schema_version": 3,
          "solution": false,
          "task": false
        },
        "tags": []
      },
      "outputs": [
        {
          "name": "stderr",
          "output_type": "stream",
          "text": [
            "2023-07-14 13:47:38.432281: I tensorflow/tsl/cuda/cudart_stub.cc:28] Could not find cuda drivers on your machine, GPU will not be used.\n",
            "2023-07-14 13:47:38.736426: I tensorflow/tsl/cuda/cudart_stub.cc:28] Could not find cuda drivers on your machine, GPU will not be used.\n",
            "2023-07-14 13:47:38.740148: I tensorflow/core/platform/cpu_feature_guard.cc:182] This TensorFlow binary is optimized to use available CPU instructions in performance-critical operations.\n",
            "To enable the following instructions: AVX2 FMA, in other operations, rebuild TensorFlow with the appropriate compiler flags.\n",
            "2023-07-14 13:47:40.270062: W tensorflow/compiler/tf2tensorrt/utils/py_utils.cc:38] TF-TRT Warning: Could not find TensorRT\n"
          ]
        }
      ],
      "source": [
        "import tensorflow as tf\n"
      ]
    },
    {
      "cell_type": "code",
      "execution_count": 4,
      "id": "7e8a1aa6-c672-482b-b97f-686192d8c2d6",
      "metadata": {
        "colab": {
          "base_uri": "https://localhost:8080/"
        },
        "id": "7e8a1aa6-c672-482b-b97f-686192d8c2d6",
        "nbgrader": {
          "grade": false,
          "grade_id": "Primera_pregunta",
          "locked": false,
          "schema_version": 3,
          "solution": true,
          "task": false
        },
        "outputId": "33e96101-6a38-4955-a49d-5c041aaefeb3",
        "tags": []
      },
      "outputs": [
        {
          "name": "stdout",
          "output_type": "stream",
          "text": [
            "Downloading data from https://storage.googleapis.com/tensorflow/tf-keras-datasets/mnist.npz\n"
          ]
        },
        {
          "name": "stdout",
          "output_type": "stream",
          "text": [
            "11490434/11490434 [==============================] - 4s 0us/step\n"
          ]
        }
      ],
      "source": [
        "# Descomenta (saca la #) la proxima linea de codigo e implementa la linea\n",
        "# que bajara la base de datos mnist\n",
        "# (x_train, train_labels), (x_test, test_labels) = # linea_de_codigo_aqui\n",
        "\n",
        "\n",
        "### BEGIN SOLUTION\n",
        "(x_train, train_labels), (x_test, test_labels) = tf.keras.datasets.mnist.load_data()\n",
        "### END SOLUTION"
      ]
    },
    {
      "cell_type": "code",
      "execution_count": 5,
      "id": "a9349f73",
      "metadata": {
        "colab": {
          "base_uri": "https://localhost:8080/"
        },
        "id": "a9349f73",
        "outputId": "969daaac-133b-49e8-84bc-50983afa6308",
        "tags": []
      },
      "outputs": [
        {
          "name": "stdout",
          "output_type": "stream",
          "text": [
            "[[[0 0 0 ... 0 0 0]\n",
            "  [0 0 0 ... 0 0 0]\n",
            "  [0 0 0 ... 0 0 0]\n",
            "  ...\n",
            "  [0 0 0 ... 0 0 0]\n",
            "  [0 0 0 ... 0 0 0]\n",
            "  [0 0 0 ... 0 0 0]]\n",
            "\n",
            " [[0 0 0 ... 0 0 0]\n",
            "  [0 0 0 ... 0 0 0]\n",
            "  [0 0 0 ... 0 0 0]\n",
            "  ...\n",
            "  [0 0 0 ... 0 0 0]\n",
            "  [0 0 0 ... 0 0 0]\n",
            "  [0 0 0 ... 0 0 0]]\n",
            "\n",
            " [[0 0 0 ... 0 0 0]\n",
            "  [0 0 0 ... 0 0 0]\n",
            "  [0 0 0 ... 0 0 0]\n",
            "  ...\n",
            "  [0 0 0 ... 0 0 0]\n",
            "  [0 0 0 ... 0 0 0]\n",
            "  [0 0 0 ... 0 0 0]]\n",
            "\n",
            " ...\n",
            "\n",
            " [[0 0 0 ... 0 0 0]\n",
            "  [0 0 0 ... 0 0 0]\n",
            "  [0 0 0 ... 0 0 0]\n",
            "  ...\n",
            "  [0 0 0 ... 0 0 0]\n",
            "  [0 0 0 ... 0 0 0]\n",
            "  [0 0 0 ... 0 0 0]]\n",
            "\n",
            " [[0 0 0 ... 0 0 0]\n",
            "  [0 0 0 ... 0 0 0]\n",
            "  [0 0 0 ... 0 0 0]\n",
            "  ...\n",
            "  [0 0 0 ... 0 0 0]\n",
            "  [0 0 0 ... 0 0 0]\n",
            "  [0 0 0 ... 0 0 0]]\n",
            "\n",
            " [[0 0 0 ... 0 0 0]\n",
            "  [0 0 0 ... 0 0 0]\n",
            "  [0 0 0 ... 0 0 0]\n",
            "  ...\n",
            "  [0 0 0 ... 0 0 0]\n",
            "  [0 0 0 ... 0 0 0]\n",
            "  [0 0 0 ... 0 0 0]]]\n"
          ]
        }
      ],
      "source": [
        "# Imprimimos ahora X_train para ver que tiene adentro ...\n",
        "print(x_train)"
      ]
    },
    {
      "cell_type": "code",
      "execution_count": 6,
      "id": "49431b33",
      "metadata": {
        "colab": {
          "base_uri": "https://localhost:8080/"
        },
        "id": "49431b33",
        "outputId": "37c2cd92-d6ec-4208-8649-315723585fc5",
        "tags": []
      },
      "outputs": [
        {
          "name": "stdout",
          "output_type": "stream",
          "text": [
            "[7 2 1 ... 4 5 6]\n"
          ]
        }
      ],
      "source": [
        "# E imprimimos test_labels para ver que tiene tambien ...\n",
        "print(test_labels)"
      ]
    },
    {
      "cell_type": "code",
      "execution_count": 7,
      "id": "e16c2182-daf8-49a4-8d5b-cfc1e6c1343c",
      "metadata": {
        "colab": {
          "base_uri": "https://localhost:8080/"
        },
        "id": "e16c2182-daf8-49a4-8d5b-cfc1e6c1343c",
        "outputId": "7205dd06-7a5d-4d14-a9ef-c0b5ad246bff",
        "tags": []
      },
      "outputs": [
        {
          "name": "stdout",
          "output_type": "stream",
          "text": [
            "(60000, 28, 28)\n"
          ]
        }
      ],
      "source": [
        "# Tambien podemos imprimir el shape (la forma) de X_train para ver que es.\n",
        "# Vemos que es una matriz de 60000 x 28 x 28.\n",
        "print(x_train.shape)\n"
      ]
    },
    {
      "cell_type": "code",
      "execution_count": 8,
      "id": "4632df84-9651-4c2d-82e2-57c225a34be6",
      "metadata": {
        "id": "4632df84-9651-4c2d-82e2-57c225a34be6",
        "tags": []
      },
      "outputs": [
        {
          "ename": "ModuleNotFoundError",
          "evalue": "No module named 'matplotlib'",
          "output_type": "error",
          "traceback": [
            "\u001b[0;31m---------------------------------------------------------------------------\u001b[0m",
            "\u001b[0;31mModuleNotFoundError\u001b[0m                       Traceback (most recent call last)",
            "Cell \u001b[0;32mIn[8], line 1\u001b[0m\n\u001b[0;32m----> 1\u001b[0m \u001b[39mimport\u001b[39;00m \u001b[39mmatplotlib\u001b[39;00m\u001b[39m.\u001b[39;00m\u001b[39mpyplot\u001b[39;00m \u001b[39mas\u001b[39;00m \u001b[39mplt\u001b[39;00m\n\u001b[1;32m      2\u001b[0m \u001b[39m# Sabemos que son imagenes, asi que importemos matplotlib\u001b[39;00m\n",
            "\u001b[0;31mModuleNotFoundError\u001b[0m: No module named 'matplotlib'"
          ]
        }
      ],
      "source": [
        "import matplotlib.pyplot as plt\n",
        "# Sabemos que son imagenes, asi que importemos matplotlib\n"
      ]
    },
    {
      "cell_type": "code",
      "execution_count": null,
      "id": "3b4fc936-7843-4e5d-9f3b-5d89ca5e6478",
      "metadata": {
        "colab": {
          "base_uri": "https://localhost:8080/",
          "height": 447
        },
        "id": "3b4fc936-7843-4e5d-9f3b-5d89ca5e6478",
        "outputId": "a47587af-afa4-44a2-a547-03dbac5f985d",
        "tags": []
      },
      "outputs": [
        {
          "data": {
            "text/plain": [
              "<matplotlib.image.AxesImage at 0x7f3e3f348be0>"
            ]
          },
          "execution_count": 7,
          "metadata": {},
          "output_type": "execute_result"
        },
        {
          "data": {
            "image/png": "[encoded data removed]",
            "text/plain": [
              "<Figure size 640x480 with 1 Axes>"
            ]
          },
          "metadata": {},
          "output_type": "display_data"
        }
      ],
      "source": [
        "plt.imshow(x_train[0], cmap=\"gray\")"
      ]
    },
    {
      "cell_type": "code",
      "execution_count": null,
      "id": "f122faa0-5c13-4550-8994-d0c9220e1c19",
      "metadata": {
        "colab": {
          "base_uri": "https://localhost:8080/",
          "height": 465
        },
        "id": "f122faa0-5c13-4550-8994-d0c9220e1c19",
        "outputId": "7c2ed489-71ab-4045-dd34-f1c5b76badab",
        "tags": []
      },
      "outputs": [
        {
          "name": "stdout",
          "output_type": "stream",
          "text": [
            "52668\n"
          ]
        },
        {
          "data": {
            "text/plain": [
              "<matplotlib.image.AxesImage at 0x7f3db3febc10>"
            ]
          },
          "execution_count": 8,
          "metadata": {},
          "output_type": "execute_result"
        },
        {
          "data": {
            "image/png": "[encoded data removed]",
            "text/plain": [
              "<Figure size 640x480 with 1 Axes>"
            ]
          },
          "metadata": {},
          "output_type": "display_data"
        }
      ],
      "source": [
        "import random as rd\n",
        "rn = rd.randint(0, 60000)\n",
        "print(rn)\n",
        "\n",
        "# Pueden correr este bloque de codigo las veces que quieran para ver ejemplos\n",
        "plt.imshow(x_train[rn], cmap='gray')"
      ]
    },
    {
      "cell_type": "code",
      "execution_count": null,
      "id": "03a0ac69-3f85-44fd-8937-5ee13a6d93b6",
      "metadata": {
        "id": "03a0ac69-3f85-44fd-8937-5ee13a6d93b6",
        "nbgrader": {
          "grade": true,
          "grade_id": "Primera_prueba",
          "locked": true,
          "points": 1,
          "schema_version": 3,
          "solution": false,
          "task": false
        },
        "tags": []
      },
      "outputs": [],
      "source": [
        "# TEST CELL\n",
        "assert x_train is not None, \"No has cargado los datos de entrenamiento\"\n",
        "assert x_test is not None, \"No has cargado los datos de prueba\"\n"
      ]
    },
    {
      "cell_type": "code",
      "execution_count": null,
      "id": "7336ddcf-8861-4359-8283-bae728f5d95e",
      "metadata": {
        "id": "7336ddcf-8861-4359-8283-bae728f5d95e",
        "nbgrader": {
          "grade": false,
          "grade_id": "Normalizacion",
          "locked": true,
          "schema_version": 3,
          "solution": false,
          "task": false
        },
        "tags": []
      },
      "outputs": [],
      "source": [
        "# Normalizando los datos\n",
        "x_train, x_test = x_train / 255.0, x_test / 255.0"
      ]
    },
    {
      "cell_type": "markdown",
      "id": "a2a44cd4-9fa9-4cc7-8f91-03b5cba72396",
      "metadata": {
        "id": "a2a44cd4-9fa9-4cc7-8f91-03b5cba72396",
        "nbgrader": {
          "grade": false,
          "grade_id": "Segunda_consigna",
          "locked": true,
          "schema_version": 3,
          "solution": false,
          "task": false
        },
        "tags": []
      },
      "source": [
        "## Pregunta 2\n",
        "### Parte 2: Creación del Modelo\n",
        "\n",
        "Crea un modelo de red neuronal utilizando la API de Keras en TensorFlow. Tu modelo debería seguir la estructura siguiente:\n",
        "\n",
        "1. Una capa de aplanamiento (`Flatten`) que convierta las imágenes de 28x28 píxeles en un vector unidimensional.\n",
        "2. Una capa densa (`Dense`) con 128 neuronas y función de activación ReLU.\n",
        "3. Una capa de dropout (`Dropout`) con una tasa de 0.2, para ayudar a prevenir el sobreajuste.\n",
        "4. Una capa densa final (`Dense`) con 10 neuronas (una para cada dígito del 0 al 9) y función de activación softmax (para la clasificación multiclase).\n",
        "\n",
        "Guarda tu modelo en una variable llamada `model`.\n"
      ]
    },
    {
      "cell_type": "code",
      "execution_count": null,
      "id": "8691368b-ef37-4374-95f9-73113c93e65e",
      "metadata": {
        "id": "8691368b-ef37-4374-95f9-73113c93e65e",
        "nbgrader": {
          "grade": false,
          "grade_id": "Segunda_pregunta",
          "locked": false,
          "schema_version": 3,
          "solution": true,
          "task": false
        },
        "tags": []
      },
      "outputs": [],
      "source": [
        "\n",
        "### BEGIN SOLUTION\n",
        "model = tf.keras.models.Sequential([\n",
        "  tf.keras.layers.Flatten(input_shape=(28, 28)),\n",
        "  tf.keras.layers.Dense(128, activation='relu'),\n",
        "  tf.keras.layers.Dropout(0.2),\n",
        "  tf.keras.layers.Dense(10, activation='softmax')\n",
        "])\n",
        "### END SOLUTION\n"
      ]
    },
    {
      "cell_type": "code",
      "execution_count": null,
      "id": "d4e93974-5411-4d48-b244-0d067c046d23",
      "metadata": {
        "id": "d4e93974-5411-4d48-b244-0d067c046d23",
        "nbgrader": {
          "grade": true,
          "grade_id": "Segunda_prueba",
          "locked": true,
          "points": 2,
          "schema_version": 3,
          "solution": false,
          "task": false
        },
        "tags": []
      },
      "outputs": [],
      "source": [
        "# TEST CELL\n",
        "assert model is not None, \"No has creado el modelo!\"\n",
        "assert isinstance(model, tf.keras.models.Sequential), \"Tu modelo debe ser una instancia de tf.keras.models.Sequential\"\n",
        "# assert len(model.layers) == 4, \"Tu modelo debe tener exactamente 4 capas\"\n"
      ]
    },
    {
      "cell_type": "code",
      "execution_count": null,
      "id": "97d6c927-0a91-4bf5-bd9a-d1650ed78d10",
      "metadata": {
        "colab": {
          "base_uri": "https://localhost:8080/",
          "height": 35
        },
        "id": "97d6c927-0a91-4bf5-bd9a-d1650ed78d10",
        "nbgrader": {
          "grade": false,
          "grade_id": "Consigna_3",
          "locked": true,
          "schema_version": 3,
          "solution": false,
          "task": false
        },
        "outputId": "1f0e760f-709d-4157-b9c6-716cf29a8572",
        "tags": []
      },
      "outputs": [
        {
          "data": {
            "application/vnd.google.colaboratory.intrinsic+json": {
              "type": "string"
            },
            "text/plain": [
              "'\\nAhora compila tu modelo utilizando el optimizador `adam` y la función de pérdida `sparse_categorical_crossentropy`. También debes monitorear la métrica de `accuracy`.\\n'"
            ]
          },
          "execution_count": 13,
          "metadata": {},
          "output_type": "execute_result"
        }
      ],
      "source": [
        "\"\"\"\n",
        "Ahora compila tu modelo utilizando el optimizador `adam` y la función de pérdida `sparse_categorical_crossentropy`. También debes monitorear la métrica de `accuracy`.\n",
        "\"\"\"\n"
      ]
    },
    {
      "cell_type": "code",
      "execution_count": null,
      "id": "55d5146b-469f-4277-bb83-66b909e161f5",
      "metadata": {
        "id": "55d5146b-469f-4277-bb83-66b909e161f5",
        "nbgrader": {
          "grade": false,
          "grade_id": "Tercera_pregunta",
          "locked": false,
          "schema_version": 3,
          "solution": true,
          "task": false
        },
        "tags": []
      },
      "outputs": [],
      "source": [
        "\n",
        "\n",
        "### BEGIN SOLUTION\n",
        "model.compile(optimizer='adam',\n",
        "              loss='sparse_categorical_crossentropy',\n",
        "              metrics=['accuracy'])\n",
        "### END SOLUTION\n"
      ]
    },
    {
      "cell_type": "code",
      "execution_count": null,
      "id": "9175ce17-2d77-4a34-a404-ccbcaf36c3c0",
      "metadata": {
        "id": "9175ce17-2d77-4a34-a404-ccbcaf36c3c0",
        "nbgrader": {
          "grade": true,
          "grade_id": "Tercera_prueba",
          "locked": true,
          "points": 2,
          "schema_version": 3,
          "solution": false,
          "task": false
        },
        "tags": []
      },
      "outputs": [],
      "source": [
        "# TEST CELL\n",
        "assert model.optimizer is not None, \"No has configurado un optimizador para tu modelo\"\n",
        "assert model.loss is not None, \"No has configurado una función de pérdida para tu modelo\"\n",
        "# assert \"accuracy\" in model.metrics_names, \"Debes monitorear la métrica 'accuracy'\"\n"
      ]
    },
    {
      "cell_type": "markdown",
      "id": "efb56789-9c72-4f55-b733-e0fb1ecb7506",
      "metadata": {
        "id": "efb56789-9c72-4f55-b733-e0fb1ecb7506",
        "nbgrader": {
          "grade": false,
          "grade_id": "Cuarta_consigna",
          "locked": true,
          "schema_version": 3,
          "solution": false,
          "task": false
        },
        "tags": []
      },
      "source": [
        "## Pregunta 3\n",
        "### Parte 3: Entrenamiento del Modelo\n",
        "\n",
        "Entrena tu modelo en los datos de entrenamiento durante al menos 5 épocas y guarda el objeto de historial devuelto por `model.fit()` en una variable llamada `history`. No olvides también proporcionar los datos de validación.\n",
        "\n"
      ]
    },
    {
      "cell_type": "code",
      "execution_count": null,
      "id": "d3dd5850-f7c7-4899-8e0a-810179c2a01d",
      "metadata": {
        "colab": {
          "base_uri": "https://localhost:8080/"
        },
        "id": "d3dd5850-f7c7-4899-8e0a-810179c2a01d",
        "nbgrader": {
          "grade": false,
          "grade_id": "Cuarta_pregunta",
          "locked": false,
          "schema_version": 3,
          "solution": true,
          "task": false
        },
        "outputId": "06b74ede-ec69-433a-8b5d-0fea29069654",
        "tags": []
      },
      "outputs": [
        {
          "name": "stdout",
          "output_type": "stream",
          "text": [
            "Epoch 1/5\n",
            "1875/1875 [==============================] - 11s 6ms/step - loss: 0.2988 - accuracy: 0.9119 - val_loss: 0.1393 - val_accuracy: 0.9593\n",
            "Epoch 2/5\n",
            "1875/1875 [==============================] - 14s 7ms/step - loss: 0.1456 - accuracy: 0.9568 - val_loss: 0.1052 - val_accuracy: 0.9683\n",
            "Epoch 3/5\n",
            "1875/1875 [==============================] - 9s 5ms/step - loss: 0.1087 - accuracy: 0.9664 - val_loss: 0.0866 - val_accuracy: 0.9748\n",
            "Epoch 4/5\n",
            "1875/1875 [==============================] - 6s 3ms/step - loss: 0.0894 - accuracy: 0.9728 - val_loss: 0.0762 - val_accuracy: 0.9764\n",
            "Epoch 5/5\n",
            "1875/1875 [==============================] - 8s 4ms/step - loss: 0.0761 - accuracy: 0.9766 - val_loss: 0.0701 - val_accuracy: 0.9774\n"
          ]
        }
      ],
      "source": [
        "\n",
        "### BEGIN SOLUTION\n",
        "history = model.fit(x_train, train_labels, epochs=5, validation_data=(x_test, test_labels))\n",
        "### END SOLUTION\n"
      ]
    },
    {
      "cell_type": "code",
      "execution_count": null,
      "id": "f4b6f14a-67ac-447d-a053-e01624d5430c",
      "metadata": {
        "id": "f4b6f14a-67ac-447d-a053-e01624d5430c",
        "nbgrader": {
          "grade": true,
          "grade_id": "Cuarto_test",
          "locked": true,
          "points": 3,
          "schema_version": 3,
          "solution": false,
          "task": false
        },
        "tags": []
      },
      "outputs": [],
      "source": [
        "# TEST CELL\n",
        "assert history is not None, \"No has entrenado el modelo\"\n",
        "assert len(history.history['loss']) >= 5, \"Debes entrenar el modelo durante al menos 5 épocas\"\n",
        "\n"
      ]
    },
    {
      "cell_type": "code",
      "execution_count": null,
      "id": "515eeeb8-60b1-4a1f-be0c-03d73515f606",
      "metadata": {
        "colab": {
          "base_uri": "https://localhost:8080/",
          "height": 35
        },
        "id": "515eeeb8-60b1-4a1f-be0c-03d73515f606",
        "nbgrader": {
          "grade": false,
          "grade_id": "Consigna_visualizacion",
          "locked": true,
          "schema_version": 3,
          "solution": false,
          "task": false
        },
        "outputId": "0938ba55-e173-4747-c395-12a403e139cf",
        "tags": []
      },
      "outputs": [
        {
          "data": {
            "application/vnd.google.colaboratory.intrinsic+json": {
              "type": "string"
            },
            "text/plain": [
              "'\\nUna vez que tu modelo esté entrenado, visualiza la evolución de la precisión de entrenamiento y validación a lo largo de las épocas. Puedes usar `matplotlib.pyplot` para esto.\\n'"
            ]
          },
          "execution_count": 18,
          "metadata": {},
          "output_type": "execute_result"
        }
      ],
      "source": [
        "\"\"\"\n",
        "Una vez que tu modelo esté entrenado, visualiza la evolución de la precisión de entrenamiento y validación a lo largo de las épocas. Puedes usar `matplotlib.pyplot` para esto.\n",
        "\"\"\"\n"
      ]
    },
    {
      "cell_type": "code",
      "execution_count": null,
      "id": "3ece5bce-b417-4159-a0ba-63c4e4018a4a",
      "metadata": {
        "colab": {
          "base_uri": "https://localhost:8080/",
          "height": 472
        },
        "id": "3ece5bce-b417-4159-a0ba-63c4e4018a4a",
        "nbgrader": {
          "grade": false,
          "grade_id": "Visualizacion",
          "locked": false,
          "schema_version": 3,
          "solution": true,
          "task": false
        },
        "outputId": "4a9a53c4-7a95-4f19-f2b2-1a04f5354054",
        "tags": []
      },
      "outputs": [
        {
          "data": {
            "image/png": "[encoded data removed]",
            "text/plain": [
              "<Figure size 640x480 with 1 Axes>"
            ]
          },
          "metadata": {},
          "output_type": "display_data"
        }
      ],
      "source": [
        "\n",
        "### BEGIN SOLUTION\n",
        "import matplotlib.pyplot as plt\n",
        "\n",
        "# Plotting training accuracy\n",
        "plt.plot(history.history['accuracy'])\n",
        "# Plotting validation accuracy\n",
        "plt.plot(history.history['val_accuracy'])\n",
        "# Setting title and labels\n",
        "plt.title('Model accuracy')\n",
        "plt.ylabel('Accuracy')\n",
        "plt.xlabel('Epoch')\n",
        "plt.legend(['Train', 'Test'], loc='upper left')\n",
        "plt.show()\n",
        "### END SOLUTION\n"
      ]
    },
    {
      "cell_type": "markdown",
      "id": "e50a09ce-322b-4d5b-97f1-73601a3132c9",
      "metadata": {
        "id": "e50a09ce-322b-4d5b-97f1-73601a3132c9",
        "nbgrader": {
          "grade": false,
          "grade_id": "Ejemplo_visualizacion_mark",
          "locked": true,
          "schema_version": 3,
          "solution": false,
          "task": false
        },
        "tags": []
      },
      "source": [
        "Aquí te mostramos un ejemplo de cómo debería verse tu gráfico. La precisión de entrenamiento y validación deberían aumentar con el tiempo, y la precisión de validación debería ser algo menor que la de entrenamiento.\n",
        "\n",
        "Recuerda, la precisión exacta puede variar debido a la naturaleza estocástica del entrenamiento de la red neuronal, por lo que no te preocupes si tus números no coinciden exactamente con los del ejemplo.\n",
        "\n",
        "Por que la validacion da un accuracy mas alto que los datos de entrenamiento? No deberia ser al reves?\n",
        "Normalmente si! Esto que ven aqui es un caso atipico. Lo que pasa es que nuestra capa \"Dropout\", que sirve para prevenir overfitting, esta funcionando demasiado bien! Tan bien que nos da vuelta a los resultados que esperamos.\n",
        "\n",
        "El dropout simplemente corta \"conexiones\" entre neuronas al azar para prevenir el overfitting, pero despues la validacion se hace usando todas las conexiones! (porque ya prevenimos el overfitting).\n"
      ]
    },
    {
      "cell_type": "code",
      "execution_count": null,
      "id": "23b60fc5-7a2e-493e-9a42-e3ba0d7cfcc2",
      "metadata": {
        "colab": {
          "base_uri": "https://localhost:8080/"
        },
        "id": "23b60fc5-7a2e-493e-9a42-e3ba0d7cfcc2",
        "outputId": "a4fba05c-90cb-4e1e-a5c3-65a6b52e5ba1",
        "tags": []
      },
      "outputs": [
        {
          "name": "stdout",
          "output_type": "stream",
          "text": [
            "Epoch 1/5\n",
            "1875/1875 [==============================] - 7s 3ms/step - loss: 0.2610 - accuracy: 0.9255 - val_loss: 0.1430 - val_accuracy: 0.9581\n",
            "Epoch 2/5\n",
            "1875/1875 [==============================] - 7s 4ms/step - loss: 0.1158 - accuracy: 0.9660 - val_loss: 0.1177 - val_accuracy: 0.9652\n",
            "Epoch 3/5\n",
            "1875/1875 [==============================] - 6s 3ms/step - loss: 0.0801 - accuracy: 0.9760 - val_loss: 0.0911 - val_accuracy: 0.9725\n",
            "Epoch 4/5\n",
            "1875/1875 [==============================] - 7s 4ms/step - loss: 0.0603 - accuracy: 0.9819 - val_loss: 0.0793 - val_accuracy: 0.9762\n",
            "Epoch 5/5\n",
            "1875/1875 [==============================] - 6s 3ms/step - loss: 0.0469 - accuracy: 0.9852 - val_loss: 0.0799 - val_accuracy: 0.9759\n"
          ]
        }
      ],
      "source": [
        "# Probemos haciendo lo mismo, pero sin dropout\n",
        "\n",
        "# Definimos la arquitectura\n",
        "model_nodrop = tf.keras.models.Sequential([\n",
        "  tf.keras.layers.Flatten(input_shape=(28, 28)),\n",
        "  tf.keras.layers.Dense(128, activation='relu'),\n",
        "  # tf.keras.layers.Dropout(0.2),\n",
        "  tf.keras.layers.Dense(10, activation='softmax')\n",
        "])\n",
        "\n",
        "# Compilamos\n",
        "model_nodrop.compile(optimizer='adam',\n",
        "              loss='sparse_categorical_crossentropy',\n",
        "              metrics=['accuracy'])\n",
        "\n",
        "# Fiteamos (entrenamos), gurdando los datos en history\n",
        "history_nodrop = model_nodrop.fit(x_train, train_labels, epochs=5, validation_data=(x_test, test_labels))"
      ]
    },
    {
      "cell_type": "code",
      "execution_count": null,
      "id": "88755a18-2b62-4f79-ab25-5cdf2521b48b",
      "metadata": {
        "colab": {
          "base_uri": "https://localhost:8080/",
          "height": 472
        },
        "id": "88755a18-2b62-4f79-ab25-5cdf2521b48b",
        "outputId": "74235744-754d-4d78-c84c-bcc94931c13e",
        "tags": []
      },
      "outputs": [
        {
          "data": {
            "image/png": "[encoded data removed]",
            "text/plain": [
              "<Figure size 640x480 with 1 Axes>"
            ]
          },
          "metadata": {},
          "output_type": "display_data"
        }
      ],
      "source": [
        "import matplotlib.pyplot as plt\n",
        "\n",
        "# Plotting training accuracy\n",
        "plt.plot(history_nodrop.history['accuracy'])\n",
        "# Plotting validation accuracy\n",
        "plt.plot(history_nodrop.history['val_accuracy'])\n",
        "# Setting title and labels\n",
        "plt.title('Model accuracy')\n",
        "plt.ylabel('Accuracy')\n",
        "plt.xlabel('Epoch')\n",
        "plt.legend(['Train', 'Test'], loc='upper left')\n",
        "plt.show()\n",
        "\n",
        "# Veremos que el comienzo de este grafico puede llegar a ser algo atipico, pero puede ser un efecto del azar, ya no tenemos un grafico claramente invertido.\n",
        "# Prueben aumentando el numero de epocas. Que sucede? Como cambia el grafico?\n",
        "# Recuerden que cada vez que corren el modelo hay un efecto del azar"
      ]
    },
    {
      "cell_type": "code",
      "execution_count": null,
      "id": "d2196db0-ba23-4aeb-ab66-6ef499fedc9b",
      "metadata": {
        "id": "d2196db0-ba23-4aeb-ab66-6ef499fedc9b"
      },
      "outputs": [],
      "source": []
    },
    {
      "cell_type": "code",
      "execution_count": null,
      "id": "0e9235c2-8dfa-490d-b19d-fa872889cbe4",
      "metadata": {
        "colab": {
          "base_uri": "https://localhost:8080/",
          "height": 70
        },
        "id": "0e9235c2-8dfa-490d-b19d-fa872889cbe4",
        "nbgrader": {
          "grade": true,
          "grade_id": "Ejemplo_visualizacion_nump",
          "locked": false,
          "points": 1,
          "schema_version": 3,
          "solution": true,
          "task": false
        },
        "outputId": "b0dc9281-0fab-46ea-b6ef-e86b21d81fd5",
        "tags": []
      },
      "outputs": [
        {
          "data": {
            "application/vnd.google.colaboratory.intrinsic+json": {
              "type": "string"
            },
            "text/plain": [
              "\"\\nimport numpy as np\\n\\n# Example data\\nepochs = np.arange(1, 6)\\ntrain_acc = np.array([0.92, 0.94, 0.95, 0.96, 0.97])\\nval_acc = np.array([0.91, 0.92, 0.93, 0.93, 0.94])\\n\\n# Plotting training accuracy\\nplt.plot(epochs, train_acc)\\n# Plotting validation accuracy\\nplt.plot(epochs, val_acc)\\n# Setting title and labels\\nplt.title('Example - Model accuracy')\\nplt.ylabel('Accuracy')\\nplt.xlabel('Epoch')\\nplt.legend(['Train', 'Test'], loc='upper left')\\nplt.show()\\n\""
            ]
          },
          "execution_count": 22,
          "metadata": {},
          "output_type": "execute_result"
        }
      ],
      "source": [
        "# Esta celda servia solo a modo ilustrativo ...\n",
        "\"\"\"\n",
        "import numpy as np\n",
        "\n",
        "# Example data\n",
        "epochs = np.arange(1, 6)\n",
        "train_acc = np.array([0.92, 0.94, 0.95, 0.96, 0.97])\n",
        "val_acc = np.array([0.91, 0.92, 0.93, 0.93, 0.94])\n",
        "\n",
        "# Plotting training accuracy\n",
        "plt.plot(epochs, train_acc)\n",
        "# Plotting validation accuracy\n",
        "plt.plot(epochs, val_acc)\n",
        "# Setting title and labels\n",
        "plt.title('Example - Model accuracy')\n",
        "plt.ylabel('Accuracy')\n",
        "plt.xlabel('Epoch')\n",
        "plt.legend(['Train', 'Test'], loc='upper left')\n",
        "plt.show()\n",
        "\"\"\""
      ]
    },
    {
      "cell_type": "code",
      "execution_count": null,
      "id": "8a3d2cfa-03f0-4752-94c0-2803478fe9fa",
      "metadata": {
        "id": "8a3d2cfa-03f0-4752-94c0-2803478fe9fa"
      },
      "outputs": [],
      "source": []
    },
    {
      "cell_type": "markdown",
      "id": "d4515197-c99c-417d-9626-b61c44af199c",
      "metadata": {
        "id": "d4515197-c99c-417d-9626-b61c44af199c",
        "nbgrader": {
          "grade": false,
          "grade_id": "Consigna_evaluacion",
          "locked": true,
          "schema_version": 3,
          "solution": false,
          "task": false
        },
        "tags": []
      },
      "source": [
        "## Pregunta 4\n",
        "### Parte 4: Evaluación del Modelo\n",
        "\n",
        "Ahora que has entrenado tu modelo, debes evaluar su rendimiento en los datos de prueba. Usa la función `model.evaluate()` para hacerlo y guarda el resultado en una variable llamada `test_loss, test_acc`.\n"
      ]
    },
    {
      "cell_type": "code",
      "execution_count": null,
      "id": "8503a9a9-7698-46e8-b7e4-bf5da9b0cdb3",
      "metadata": {
        "colab": {
          "base_uri": "https://localhost:8080/"
        },
        "id": "8503a9a9-7698-46e8-b7e4-bf5da9b0cdb3",
        "nbgrader": {
          "grade": false,
          "grade_id": "Pregunta_evaluacion",
          "locked": false,
          "schema_version": 3,
          "solution": true,
          "task": false
        },
        "outputId": "e0f7fa3e-920a-4670-e8ca-1115125e68cc",
        "tags": []
      },
      "outputs": [
        {
          "name": "stdout",
          "output_type": "stream",
          "text": [
            "313/313 [==============================] - 1s 2ms/step - loss: 0.0701 - accuracy: 0.9774\n"
          ]
        }
      ],
      "source": [
        "\n",
        "# Los inviten a que testeen y comparen este modelo con el otro (el que no tiene dropout). Recuerdan como lo habiamos llamado?\n",
        "test_loss, test_acc = model.evaluate(x_test, test_labels)\n",
        "\n"
      ]
    },
    {
      "cell_type": "code",
      "execution_count": null,
      "id": "bf398ad2-4cab-45aa-8d3e-1ba8950f6855",
      "metadata": {
        "id": "bf398ad2-4cab-45aa-8d3e-1ba8950f6855",
        "nbgrader": {
          "grade": true,
          "grade_id": "Prueba_evaluacion",
          "locked": true,
          "points": 2,
          "schema_version": 3,
          "solution": false,
          "task": false
        },
        "tags": []
      },
      "outputs": [],
      "source": [
        "# TEST CELL\n",
        "assert test_acc is not None, \"No has evaluado el modelo en los datos de prueba\"\n",
        "assert 0 <= test_acc <= 1, \"La precisión debe estar entre 0 y 1\"\n"
      ]
    },
    {
      "cell_type": "markdown",
      "id": "b33983ba-bbcf-44bd-99b1-d84f8b827e3c",
      "metadata": {
        "id": "b33983ba-bbcf-44bd-99b1-d84f8b827e3c",
        "nbgrader": {
          "grade": false,
          "grade_id": "Precision",
          "locked": true,
          "schema_version": 3,
          "solution": false,
          "task": false
        },
        "tags": []
      },
      "source": [
        "Finalmente, imprime la precisión del modelo en los datos de prueba.\n"
      ]
    },
    {
      "cell_type": "code",
      "execution_count": null,
      "id": "80db4757-cfcf-406f-91e3-fb083ff70eac",
      "metadata": {
        "colab": {
          "base_uri": "https://localhost:8080/"
        },
        "id": "80db4757-cfcf-406f-91e3-fb083ff70eac",
        "nbgrader": {
          "grade": true,
          "grade_id": "Imprime_precision",
          "locked": false,
          "points": 0,
          "schema_version": 3,
          "solution": true,
          "task": false
        },
        "outputId": "3338e876-7762-4357-9256-4b4695bc9e04",
        "tags": []
      },
      "outputs": [
        {
          "name": "stdout",
          "output_type": "stream",
          "text": [
            "La precisión del modelo en los datos de prueba es: 97.74%\n"
          ]
        }
      ],
      "source": [
        "\n",
        "### BEGIN SOLUTION\n",
        "print(f'La precisión del modelo en los datos de prueba es: {test_acc*100:.2f}%')\n",
        "### END SOLUTION\n"
      ]
    },
    {
      "cell_type": "code",
      "execution_count": null,
      "id": "b94811c3-13fb-4528-bd87-60ce3e6e9adf",
      "metadata": {
        "colab": {
          "base_uri": "https://localhost:8080/"
        },
        "id": "b94811c3-13fb-4528-bd87-60ce3e6e9adf",
        "outputId": "bf087b95-2f57-47d9-9067-11ca9fc8c5df",
        "tags": []
      },
      "outputs": [
        {
          "data": {
            "text/plain": [
              "(10000, 28, 28)"
            ]
          },
          "execution_count": 26,
          "metadata": {},
          "output_type": "execute_result"
        }
      ],
      "source": [
        "x_test.shape"
      ]
    },
    {
      "cell_type": "code",
      "execution_count": null,
      "id": "0c61cb07-97ff-4f38-9e84-546bda443a9e",
      "metadata": {
        "colab": {
          "base_uri": "https://localhost:8080/",
          "height": 499
        },
        "id": "0c61cb07-97ff-4f38-9e84-546bda443a9e",
        "outputId": "5c89d7b8-82d5-4867-9429-5cb9c8a41274",
        "tags": []
      },
      "outputs": [
        {
          "name": "stdout",
          "output_type": "stream",
          "text": [
            "1/1 [==============================] - 0s 124ms/step\n",
            "La prediccion del numero que estan viendo es 3\n",
            "1/1 [==============================] - 0s 48ms/step\n",
            "La prediccion sin dropout del numero que estan viendo es 3\n"
          ]
        },
        {
          "data": {
            "image/png": "[encoded data removed]",
            "text/plain": [
              "<Figure size 640x480 with 1 Axes>"
            ]
          },
          "metadata": {},
          "output_type": "display_data"
        }
      ],
      "source": [
        "# Muy bonitas graficas, pero ... para que sirve??\n",
        "import numpy as np\n",
        "rn = rd.randint(0, 10000)\n",
        "\n",
        "\n",
        "plt.imshow(x_test[rn], cmap='gray')\n",
        "\n",
        "numero = x_test[rn].reshape(1,28,28,1)\n",
        "# print(numero.shape)\n",
        "\n",
        "# La prediccion arroja siempre un array de numeros que indica la probabilidad de cada clase\n",
        "# La prediccion mas alta es la que nos interesa ahora. Logramos eso con la funcion de numpy: argmax\n",
        "\n",
        "array_de_probabilidades = model.predict(numero) # Los invito a que prueben imprimir este array en otro bloque para ver que tiene\n",
        "\n",
        "numero_pred = np.argmax(array_de_probabilidades)\n",
        "print(f\"La prediccion del numero que estan viendo es {numero_pred}\")\n",
        "\n",
        "numero_pred_nodrop = np.argmax(model_nodrop.predict(numero))\n",
        "print(f\"La prediccion sin dropout del numero que estan viendo es {numero_pred_nodrop}\")"
      ]
    },
    {
      "cell_type": "markdown",
      "id": "aec70f9d-434d-4519-8e26-77ce3380ea6b",
      "metadata": {
        "id": "aec70f9d-434d-4519-8e26-77ce3380ea6b",
        "nbgrader": {
          "grade": false,
          "grade_id": "Consigna_parrafo",
          "locked": true,
          "schema_version": 3,
          "solution": false,
          "task": false
        },
        "tags": []
      },
      "source": [
        "## Pregunta 5\n",
        "### Parte 5: Interpretación de Resultados\n",
        "\n",
        "Por favor, escribe un breve párrafo en el que interpretes los resultados obtenidos. ¿Cómo evolucionó la precisión de tu modelo durante el entrenamiento? ¿Cómo se compara la precisión de entrenamiento con la de validación? ¿Estás satisfecho con la precisión del modelo en los datos de prueba?\n"
      ]
    },
    {
      "cell_type": "markdown",
      "id": "f4159f37-593a-455a-b5a0-f292d667899e",
      "metadata": {
        "id": "f4159f37-593a-455a-b5a0-f292d667899e",
        "nbgrader": {
          "grade": true,
          "grade_id": "Respuesta_teorica",
          "locked": false,
          "points": 1,
          "schema_version": 3,
          "solution": true,
          "task": false
        },
        "tags": []
      },
      "source": [
        "#### Escribe aqui tu respuesta\n"
      ]
    }
  ],
  "metadata": {
    "colab": {
      "provenance": []
    },
    "kernelspec": {
      "display_name": "Python 3 (ipykernel)",
      "language": "python",
      "name": "python3"
    },
    "language_info": {
      "codemirror_mode": {
        "name": "ipython",
        "version": 3
      },
      "file_extension": ".py",
      "mimetype": "text/x-python",
      "name": "python",
      "nbconvert_exporter": "python",
      "pygments_lexer": "ipython3",
      "version": "3.11.3"
    }
  },
  "nbformat": 4,
  "nbformat_minor": 5
}
